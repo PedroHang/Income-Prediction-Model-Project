{
 "cells": [
  {
   "cell_type": "markdown",
   "metadata": {},
   "source": [
    "# Previsão de renda"
   ]
  },
  {
   "cell_type": "markdown",
   "metadata": {},
   "source": [
    "### 4 elementos importantes\n",
    "- Esse notebook\n",
    "- Streamlit com as análises\n",
    "- Seu Github com o projeto\n",
    "- Vídeo no readme do github mostrando o streamlit"
   ]
  },
  {
   "cell_type": "markdown",
   "metadata": {},
   "source": [
    "## Etapa 1 CRISP - DM: Entendimento do negócio\n",
    "\n",
    "<span><b>Principal objetivo:</b> A entrega de um modelo que seja capaz de prever com precisão máxima a renda de um indivíduo levando em consideração diversos fatores sobre o mesmo.</span>\n",
    "\n",
    "<span><b>O recurso principal para realizar a previsão se trata de um Dataset com diversas variáveis explicativas.</b></span>\n",
    "\n",
    "<span><b>Os principais interessados na realização da previsão de renda podem ser:</b> Seguradoras, Bancos e outras instituições financeiras.</span>\n"
   ]
  },
  {
   "cell_type": "markdown",
   "metadata": {},
   "source": [
    "## Etapa 2 Crisp-DM: Entendimento dos dados\n",
    "<span style=\"color:red\">ESCREVER AQUI</span>\n",
    "\n",
    "\n",
    "### Dicionário de dados\n",
    "\n",
    "<span style=\"color:red\">ESCREVER AQUI</span>\n",
    "\n",
    "\n",
    "| Variável                | Descrição                                           | Tipo         |\n",
    "| ----------------------- |:---------------------------------------------------:| ------------:|\n",
    "| data_ref                |  ESCREVER AQUI                                      | datatime|\n",
    "| id_cliente              |  ESCREVER AQUI                                      | int|\n",
    "| sexo                    |  ESCREVER AQUI                                      | object|\n",
    "| posse_de_veiculo        |  ESCREVER AQUI                                      | bool|\n",
    "| posse_de_imovel         |  ESCREVER AQUI                                      | bool|\n",
    "| qtd_filhos              |  ESCREVER AQUI                                      | int|\n",
    "| tipo_renda              |  ESCREVER AQUI                                      | object|\n",
    "| educacao                |  ESCREVER AQUI                                      | object|\n",
    "| estado_civil            |  ESCREVER AQUI                                      | object|\n",
    "| tipo_residencia         |  ESCREVER AQUI                                      | object|\n",
    "| idade                   |  ESCREVER AQUI                                      | int|\n",
    "| tempo_emprego           |  ESCREVER AQUI                                      | float|\n",
    "| qt_pessoas_residencia   |  ESCREVER AQUI                                      | float|\n",
    "| renda                   |  ESCREVER AQUI                                      | float|\n",
    "\n",
    "\n",
    "\n"
   ]
  },
  {
   "cell_type": "markdown",
   "metadata": {},
   "source": [
    "#### Carregando os pacotes\n",
    "É considerado uma boa prática carregar os pacotes que serão utilizados como a primeira coisa do programa."
   ]
  },
  {
   "cell_type": "markdown",
   "metadata": {},
   "source": [
    "<span style=\"color:red\">ESCREVER AQUI</span>\n"
   ]
  },
  {
   "cell_type": "markdown",
   "metadata": {},
   "source": [
    "#### Carregando os dados\n",
    "O comando pd.read_csv é um comando da biblioteca pandas (pd.) e carrega os dados do arquivo csv indicado para um objeto *dataframe* do pandas."
   ]
  },
  {
   "cell_type": "markdown",
   "metadata": {},
   "source": [
    "<span style=\"color:red\">ESCREVER AQUI</span>\n"
   ]
  },
  {
   "cell_type": "code",
   "execution_count": 2,
   "metadata": {},
   "outputs": [],
   "source": [
    "import pandas as pd\n",
    "import seaborn as sns\n",
    "import matplotlib.pyplot as plt\n",
    "#from pandas_profiling import ProfileReport"
   ]
  },
  {
   "cell_type": "code",
   "execution_count": 3,
   "metadata": {},
   "outputs": [],
   "source": [
    "renda = pd.read_csv('./input/previsao_de_renda.csv')"
   ]
  },
  {
   "cell_type": "code",
   "execution_count": 4,
   "metadata": {},
   "outputs": [
    {
     "data": {
      "text/html": [
       "<div>\n",
       "<style scoped>\n",
       "    .dataframe tbody tr th:only-of-type {\n",
       "        vertical-align: middle;\n",
       "    }\n",
       "\n",
       "    .dataframe tbody tr th {\n",
       "        vertical-align: top;\n",
       "    }\n",
       "\n",
       "    .dataframe thead th {\n",
       "        text-align: right;\n",
       "    }\n",
       "</style>\n",
       "<table border=\"1\" class=\"dataframe\">\n",
       "  <thead>\n",
       "    <tr style=\"text-align: right;\">\n",
       "      <th></th>\n",
       "      <th>Unnamed: 0</th>\n",
       "      <th>data_ref</th>\n",
       "      <th>id_cliente</th>\n",
       "      <th>sexo</th>\n",
       "      <th>posse_de_veiculo</th>\n",
       "      <th>posse_de_imovel</th>\n",
       "      <th>qtd_filhos</th>\n",
       "      <th>tipo_renda</th>\n",
       "      <th>educacao</th>\n",
       "      <th>estado_civil</th>\n",
       "      <th>tipo_residencia</th>\n",
       "      <th>idade</th>\n",
       "      <th>tempo_emprego</th>\n",
       "      <th>qt_pessoas_residencia</th>\n",
       "      <th>renda</th>\n",
       "    </tr>\n",
       "  </thead>\n",
       "  <tbody>\n",
       "    <tr>\n",
       "      <th>0</th>\n",
       "      <td>0</td>\n",
       "      <td>2015-01-01</td>\n",
       "      <td>15056</td>\n",
       "      <td>F</td>\n",
       "      <td>False</td>\n",
       "      <td>True</td>\n",
       "      <td>0</td>\n",
       "      <td>Empresário</td>\n",
       "      <td>Secundário</td>\n",
       "      <td>Solteiro</td>\n",
       "      <td>Casa</td>\n",
       "      <td>26</td>\n",
       "      <td>6.60274</td>\n",
       "      <td>1.0</td>\n",
       "      <td>8060.34</td>\n",
       "    </tr>\n",
       "  </tbody>\n",
       "</table>\n",
       "</div>"
      ],
      "text/plain": [
       "   Unnamed: 0    data_ref  id_cliente sexo  posse_de_veiculo  posse_de_imovel  \\\n",
       "0           0  2015-01-01       15056    F             False             True   \n",
       "\n",
       "   qtd_filhos  tipo_renda    educacao estado_civil tipo_residencia  idade  \\\n",
       "0           0  Empresário  Secundário     Solteiro            Casa     26   \n",
       "\n",
       "   tempo_emprego  qt_pessoas_residencia    renda  \n",
       "0        6.60274                    1.0  8060.34  "
      ]
     },
     "execution_count": 4,
     "metadata": {},
     "output_type": "execute_result"
    }
   ],
   "source": [
    "renda.head(1)"
   ]
  },
  {
   "cell_type": "code",
   "execution_count": 7,
   "metadata": {},
   "outputs": [
    {
     "data": {
      "text/plain": [
       "Unnamed: 0                 int64\n",
       "data_ref                  object\n",
       "id_cliente                 int64\n",
       "sexo                      object\n",
       "posse_de_veiculo            bool\n",
       "posse_de_imovel             bool\n",
       "qtd_filhos                 int64\n",
       "tipo_renda                object\n",
       "educacao                  object\n",
       "estado_civil              object\n",
       "tipo_residencia           object\n",
       "idade                      int64\n",
       "tempo_emprego            float64\n",
       "qt_pessoas_residencia    float64\n",
       "renda                    float64\n",
       "dtype: object"
      ]
     },
     "execution_count": 7,
     "metadata": {},
     "output_type": "execute_result"
    }
   ],
   "source": [
    "renda.dtypes"
   ]
  },
  {
   "cell_type": "markdown",
   "metadata": {},
   "source": [
    "#### Entendimento dos dados - Univariada\n",
    "Nesta etapa tipicamente avaliamos a distribuição de todas as variáveis. "
   ]
  },
  {
   "cell_type": "code",
   "execution_count": null,
   "metadata": {
    "scrolled": true
   },
   "outputs": [],
   "source": [
    "prof = ProfileReport(renda, explorative=True, minimal=True)\n",
    "prof\n"
   ]
  },
  {
   "cell_type": "code",
   "execution_count": 5,
   "metadata": {},
   "outputs": [
    {
     "data": {
      "application/vnd.jupyter.widget-view+json": {
       "model_id": "4e9d8b456b68482194c2cb7214b7592e",
       "version_major": 2,
       "version_minor": 0
      },
      "text/plain": [
       "HBox(children=(HTML(value='Export report to file'), FloatProgress(value=0.0, max=1.0), HTML(value='')))"
      ]
     },
     "metadata": {},
     "output_type": "display_data"
    },
    {
     "name": "stdout",
     "output_type": "stream",
     "text": [
      "\n"
     ]
    }
   ],
   "source": [
    "prof.to_file('./output/renda_analisys.html')"
   ]
  },
  {
   "cell_type": "markdown",
   "metadata": {},
   "source": [
    "<span style=\"color:red\">ESCREVER AQUI</span>\n"
   ]
  },
  {
   "cell_type": "markdown",
   "metadata": {},
   "source": [
    "### Entendimento dos dados - Bivariadas\n",
    "\n",
    "\n"
   ]
  },
  {
   "cell_type": "markdown",
   "metadata": {},
   "source": [
    "<span style=\"color:red\">ESCREVER AQUI</span>\n"
   ]
  },
  {
   "cell_type": "code",
   "execution_count": null,
   "metadata": {},
   "outputs": [],
   "source": []
  },
  {
   "cell_type": "markdown",
   "metadata": {},
   "source": [
    "## Etapa 3 Crisp-DM: Preparação dos dados\n",
    "Nessa etapa realizamos tipicamente as seguintes operações com os dados:\n",
    "\n",
    " - **seleção**: Já temos os dados selecionados adequadamente?\n",
    " - **limpeza**: Precisaremos identificar e tratar dados faltantes\n",
    " - **construção**: construção de novas variáveis\n",
    " - **integração**: Temos apenas uma fonte de dados, não é necessário integração\n",
    " - **formatação**: Os dados já se encontram em formatos úteis?\n",
    "\n"
   ]
  },
  {
   "cell_type": "markdown",
   "metadata": {},
   "source": [
    "<span style=\"color:red\">ESCREVER AQUI</span>\n"
   ]
  },
  {
   "cell_type": "code",
   "execution_count": null,
   "metadata": {},
   "outputs": [],
   "source": []
  },
  {
   "cell_type": "code",
   "execution_count": null,
   "metadata": {},
   "outputs": [],
   "source": []
  },
  {
   "cell_type": "code",
   "execution_count": null,
   "metadata": {},
   "outputs": [],
   "source": []
  },
  {
   "cell_type": "code",
   "execution_count": null,
   "metadata": {},
   "outputs": [],
   "source": []
  },
  {
   "cell_type": "markdown",
   "metadata": {},
   "source": [
    "## Etapa 4 Crisp-DM: Modelagem\n",
    "Nessa etapa que realizaremos a construção do modelo. Os passos típicos são:\n",
    "- Selecionar a técnica de modelagem\n",
    "- Desenho do teste\n",
    "- Avaliação do modelo\n"
   ]
  },
  {
   "cell_type": "markdown",
   "metadata": {},
   "source": [
    "<span style=\"color:red\">ESCREVER AQUI</span>\n"
   ]
  },
  {
   "cell_type": "markdown",
   "metadata": {},
   "source": [
    "### Rodando o modelo\n"
   ]
  },
  {
   "cell_type": "markdown",
   "metadata": {},
   "source": [
    "<span style=\"color:red\">ESCREVER AQUI</span>\n"
   ]
  },
  {
   "cell_type": "code",
   "execution_count": null,
   "metadata": {},
   "outputs": [],
   "source": []
  },
  {
   "cell_type": "code",
   "execution_count": null,
   "metadata": {},
   "outputs": [],
   "source": []
  },
  {
   "cell_type": "code",
   "execution_count": null,
   "metadata": {},
   "outputs": [],
   "source": []
  },
  {
   "cell_type": "markdown",
   "metadata": {},
   "source": [
    "## Etapa 5 Crisp-DM: Avaliação dos resultados\n"
   ]
  },
  {
   "cell_type": "markdown",
   "metadata": {},
   "source": [
    "<span style=\"color:red\">ESCREVER AQUI</span>\n"
   ]
  },
  {
   "cell_type": "code",
   "execution_count": null,
   "metadata": {},
   "outputs": [],
   "source": []
  },
  {
   "cell_type": "code",
   "execution_count": null,
   "metadata": {},
   "outputs": [],
   "source": []
  },
  {
   "cell_type": "markdown",
   "metadata": {},
   "source": [
    "## Etapa 6 Crisp-DM: Implantação\n",
    "Nessa etapa colocamos em uso o modelo desenvolvido, normalmente implementando o modelo desenvolvido em um motor que toma as decisões com algum nível de automação."
   ]
  },
  {
   "cell_type": "code",
   "execution_count": null,
   "metadata": {},
   "outputs": [],
   "source": []
  },
  {
   "cell_type": "code",
   "execution_count": null,
   "metadata": {},
   "outputs": [],
   "source": []
  },
  {
   "cell_type": "code",
   "execution_count": null,
   "metadata": {},
   "outputs": [],
   "source": []
  },
  {
   "cell_type": "code",
   "execution_count": null,
   "metadata": {},
   "outputs": [],
   "source": []
  },
  {
   "cell_type": "code",
   "execution_count": null,
   "metadata": {},
   "outputs": [],
   "source": []
  }
 ],
 "metadata": {
  "kernelspec": {
   "display_name": "Python 3 (ipykernel)",
   "language": "python",
   "name": "python3"
  },
  "language_info": {
   "codemirror_mode": {
    "name": "ipython",
    "version": 3
   },
   "file_extension": ".py",
   "mimetype": "text/x-python",
   "name": "python",
   "nbconvert_exporter": "python",
   "pygments_lexer": "ipython3",
   "version": "3.11.7"
  },
  "varInspector": {
   "cols": {
    "lenName": 16,
    "lenType": 16,
    "lenVar": 40
   },
   "kernels_config": {
    "python": {
     "delete_cmd_postfix": "",
     "delete_cmd_prefix": "del ",
     "library": "var_list.py",
     "varRefreshCmd": "print(var_dic_list())"
    },
    "r": {
     "delete_cmd_postfix": ") ",
     "delete_cmd_prefix": "rm(",
     "library": "var_list.r",
     "varRefreshCmd": "cat(var_dic_list()) "
    }
   },
   "types_to_exclude": [
    "module",
    "function",
    "builtin_function_or_method",
    "instance",
    "_Feature"
   ],
   "window_display": false
  }
 },
 "nbformat": 4,
 "nbformat_minor": 4
}
